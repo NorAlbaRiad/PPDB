{
 "cells": [
  {
   "cell_type": "markdown",
   "metadata": {},
   "source": [
    "# Bases de datos empleadas\n",
    "\n",
    "Se han fusionado diferentes bases de datos de secuencias peptídicas con diferentes actividades, ya sean con implicaciones antimicrobianas o no, y de diferente origen:\n",
    "\n",
    "- **dbAMP 2.0**: Un sistema integrado para identificar péptidos antimicrobianos (AMPs) con sus tipos funcionales basado en datos de transcriptoma y proteoma de alto rendimiento.\n",
    "\n",
    "https://awi.cuhk.edu.cn/dbAMP/index.php\n",
    "\n",
    "\n",
    "- **FermFooDb**: Una base de datos de péptidos derivados de alimentos fermentados contiene 2325 entradas de péptidos únicos de los alimentos fermentados. La matriz alimentaria varía desde leche de diferentes animales como vaca, oveja, cabra y camello, proteínas de carne, proteínas de leche de soja, yogur, vino de arroz y queso.\n",
    "\n",
    "https://webs.iiitd.edu.in/raghava/fermfoodb/\n",
    "\n",
    "- **APD3**: Esta base de datos original de péptidos antimicrobianos está curada manualmente según un conjunto de criterios de recopilación de datos.\n",
    "\n",
    "https://aps.unmc.edu/\n",
    "\n",
    "- **DRAMP Database**: Repositorio de Datos de Péptidos Antimicrobianos es una base de datos de acceso abierto y curada manualmente que alberga diversas anotaciones de AMPs incluyendo secuencias, estructuras, actividades, información fisicoquímica, patentes, clínica y referencias. El conjunto de datos clínicos también incluye información sobre la fase del ensayo clínico, aplicaciones terapéuticas, compañía y fuentes de literatura de AMP preclínicas o clínicas.\n",
    "\n",
    "http://dramp.cpu-bioinfor.org/"
   ]
  },
  {
   "cell_type": "code",
   "execution_count": 1,
   "metadata": {},
   "outputs": [],
   "source": [
    "# Carga de los csv creados de cada base de datos\n",
    "\n",
    "import pandas as pd\n",
    "import os\n",
    "from Bio import SeqIO\n",
    "\n",
    "# Define el directorio donde están los archivos CSV\n",
    "directorio = 'sub_files_bds/'\n",
    "\n",
    "# Lista para almacenar los dataframes\n",
    "dataframes = []\n",
    "\n",
    "# Recorre todos los archivos en el directorio\n",
    "for archivo in os.listdir(directorio):\n",
    "    if archivo.endswith('.csv'): \n",
    "        ruta_completa = os.path.join(directorio, archivo)\n",
    "        df = pd.read_csv(ruta_completa)\n",
    "        dataframes.append(df)\n",
    "\n",
    "# Concatena todos los dataframes en uno solo\n",
    "df = pd.concat(dataframes, ignore_index=True, sort=False)\n"
   ]
  },
  {
   "cell_type": "code",
   "execution_count": 2,
   "metadata": {},
   "outputs": [
    {
     "data": {
      "text/html": [
       "<div>\n",
       "<style scoped>\n",
       "    .dataframe tbody tr th:only-of-type {\n",
       "        vertical-align: middle;\n",
       "    }\n",
       "\n",
       "    .dataframe tbody tr th {\n",
       "        vertical-align: top;\n",
       "    }\n",
       "\n",
       "    .dataframe thead th {\n",
       "        text-align: right;\n",
       "    }\n",
       "</style>\n",
       "<table border=\"1\" class=\"dataframe\">\n",
       "  <thead>\n",
       "    <tr style=\"text-align: right;\">\n",
       "      <th></th>\n",
       "      <th>ID_Peptide</th>\n",
       "      <th>PubMed_ID</th>\n",
       "      <th>Sequence</th>\n",
       "      <th>Activity</th>\n",
       "    </tr>\n",
       "  </thead>\n",
       "  <tbody>\n",
       "    <tr>\n",
       "      <th>0</th>\n",
       "      <td>FMDB1</td>\n",
       "      <td>18521593</td>\n",
       "      <td>DP</td>\n",
       "      <td>Ace-inhibitory</td>\n",
       "    </tr>\n",
       "    <tr>\n",
       "      <th>1</th>\n",
       "      <td>FMDB1000</td>\n",
       "      <td>18627167</td>\n",
       "      <td>PVAPLQRSGPE</td>\n",
       "      <td>Ace-inhibitory</td>\n",
       "    </tr>\n",
       "    <tr>\n",
       "      <th>2</th>\n",
       "      <td>FMDB1001</td>\n",
       "      <td>18627167</td>\n",
       "      <td>PRSGNVGESGL</td>\n",
       "      <td>Ace-inhibitory</td>\n",
       "    </tr>\n",
       "    <tr>\n",
       "      <th>3</th>\n",
       "      <td>FMDB1002</td>\n",
       "      <td>18627167</td>\n",
       "      <td>VAPSRPTPR</td>\n",
       "      <td>Ace-inhibitory</td>\n",
       "    </tr>\n",
       "    <tr>\n",
       "      <th>4</th>\n",
       "      <td>FMDB1003</td>\n",
       "      <td>18627167</td>\n",
       "      <td>DIIIPD</td>\n",
       "      <td>Ace-inhibitory</td>\n",
       "    </tr>\n",
       "    <tr>\n",
       "      <th>...</th>\n",
       "      <td>...</td>\n",
       "      <td>...</td>\n",
       "      <td>...</td>\n",
       "      <td>...</td>\n",
       "    </tr>\n",
       "    <tr>\n",
       "      <th>46496</th>\n",
       "      <td>DRAMP18146</td>\n",
       "      <td>NaN</td>\n",
       "      <td>DCLGQWASCEPKNSKCCPNYACTWKYPWCRYRA</td>\n",
       "      <td>Insecticidal</td>\n",
       "    </tr>\n",
       "    <tr>\n",
       "      <th>46497</th>\n",
       "      <td>DRAMP18148</td>\n",
       "      <td>NaN</td>\n",
       "      <td>ATCAGQDQTCKVTCDCCGERGECVCGGPCICRQGNFLIAWYKLASCKK</td>\n",
       "      <td>Insecticidal</td>\n",
       "    </tr>\n",
       "    <tr>\n",
       "      <th>46498</th>\n",
       "      <td>DRAMP18149</td>\n",
       "      <td>NaN</td>\n",
       "      <td>DCGHLHDPCPNDRPGHRTCCIGLQCRYGKCLVRV</td>\n",
       "      <td>Insecticidal</td>\n",
       "    </tr>\n",
       "    <tr>\n",
       "      <th>46499</th>\n",
       "      <td>DRAMP01272</td>\n",
       "      <td>NaN</td>\n",
       "      <td>ATCAGQDQPCKETCDCCGERGECVCGGPCICRQGYFWIAWYKLANCKK</td>\n",
       "      <td>Insecticidal</td>\n",
       "    </tr>\n",
       "    <tr>\n",
       "      <th>46500</th>\n",
       "      <td>DRAMP00828</td>\n",
       "      <td>NaN</td>\n",
       "      <td>GLPTCGETCFGGTCNTPGCTCDPWPVCTHN</td>\n",
       "      <td>Insecticidal</td>\n",
       "    </tr>\n",
       "  </tbody>\n",
       "</table>\n",
       "<p>46501 rows × 4 columns</p>\n",
       "</div>"
      ],
      "text/plain": [
       "       ID_Peptide PubMed_ID                                          Sequence  \\\n",
       "0           FMDB1  18521593                                                DP   \n",
       "1        FMDB1000  18627167                                       PVAPLQRSGPE   \n",
       "2        FMDB1001  18627167                                       PRSGNVGESGL   \n",
       "3        FMDB1002  18627167                                         VAPSRPTPR   \n",
       "4        FMDB1003  18627167                                            DIIIPD   \n",
       "...           ...       ...                                               ...   \n",
       "46496  DRAMP18146       NaN                 DCLGQWASCEPKNSKCCPNYACTWKYPWCRYRA   \n",
       "46497  DRAMP18148       NaN  ATCAGQDQTCKVTCDCCGERGECVCGGPCICRQGNFLIAWYKLASCKK   \n",
       "46498  DRAMP18149       NaN                DCGHLHDPCPNDRPGHRTCCIGLQCRYGKCLVRV   \n",
       "46499  DRAMP01272       NaN  ATCAGQDQPCKETCDCCGERGECVCGGPCICRQGYFWIAWYKLANCKK   \n",
       "46500  DRAMP00828       NaN                    GLPTCGETCFGGTCNTPGCTCDPWPVCTHN   \n",
       "\n",
       "             Activity  \n",
       "0      Ace-inhibitory  \n",
       "1      Ace-inhibitory  \n",
       "2      Ace-inhibitory  \n",
       "3      Ace-inhibitory  \n",
       "4      Ace-inhibitory  \n",
       "...               ...  \n",
       "46496    Insecticidal  \n",
       "46497    Insecticidal  \n",
       "46498    Insecticidal  \n",
       "46499    Insecticidal  \n",
       "46500    Insecticidal  \n",
       "\n",
       "[46501 rows x 4 columns]"
      ]
     },
     "execution_count": 2,
     "metadata": {},
     "output_type": "execute_result"
    }
   ],
   "source": [
    "df"
   ]
  },
  {
   "cell_type": "code",
   "execution_count": 3,
   "metadata": {},
   "outputs": [
    {
     "name": "stdout",
     "output_type": "stream",
     "text": [
      "['FMDB' 'dbAMP' 'DRAMP']\n"
     ]
    }
   ],
   "source": [
    "# Crear la nueva columna 'db_source' extrayendo las letras de 'ID_Peptide'\n",
    "df['db_source'] = df['ID_Peptide'].str.extract('([A-Za-z]+)', expand=False)\n",
    "\n",
    "# Imprimir los valores únicos\n",
    "print(df['db_source'].unique())"
   ]
  },
  {
   "cell_type": "markdown",
   "metadata": {},
   "source": [
    "De la fusión de las diferentes bases de datos obtenemos una base de datos con **46501 filas** (sequencias de aminoácidos) y **4 cuolumnas** (ID_Peptide, PumMed_ID, Sequence y Activity)."
   ]
  },
  {
   "cell_type": "markdown",
   "metadata": {},
   "source": [
    "# Procesamiento de la base de datos creada\n",
    "\n",
    "A continuación se procederá a añadir más información a la base de datos, así como prepara las secuencias para el cálculo de descriptores fisicoquímicos y Machine Learning."
   ]
  },
  {
   "cell_type": "markdown",
   "metadata": {},
   "source": [
    "## Añadir identificadores de diferentes bases de datos\n",
    "\n",
    "Debido a que no todas las secuencias están identificadas en todas las bases de datos, con el objetivo de crear una base de datos más completa se añadirán diferentes identificadores, siendo estos los de UniProt y APD3."
   ]
  },
  {
   "cell_type": "markdown",
   "metadata": {},
   "source": [
    "### dbAMP\n",
    "\n",
    "De esta base de datos se pueden recuperar los identificadores de UniProt, así como el Target específico de algunos péptidos."
   ]
  },
  {
   "cell_type": "code",
   "execution_count": 4,
   "metadata": {},
   "outputs": [],
   "source": [
    "import pandas as pd\n",
    "\n",
    "# Cargar el archivo Excel con las columnas necesarias\n",
    "df_excel = pd.read_excel('sub_files_bds/dbAMPv2.0/dbAMP_pepinfo_20210922.xls')\n",
    "\n",
    "# Combinar usando el ID de Peptide\n",
    "df = pd.merge(df, df_excel[['dbAMP_ID', 'Uniprot', 'Targets']], left_on='ID_Peptide', right_on='dbAMP_ID', how='left')\n",
    "\n",
    "# Crear la columna Uniprot_ID y llenarla con los valores de Uniprot\n",
    "df['Uniprot_ID'] = df.get('Uniprot_ID', pd.Series([pd.NA]*len(df)))  # Crea la columna con valores NA si no existe\n",
    "df['Uniprot_ID'] = df['Uniprot_ID'].fillna(df['Uniprot'])  # Llena los valores NA con la columna Uniprot\n",
    "\n",
    "df.drop(columns=['Uniprot', 'dbAMP_ID'], inplace=True)  \n",
    "\n",
    "# Insertar la columna UniProt_ID en la posición deseada\n",
    "df.insert(2, 'UniProt_ID', df.pop('Uniprot_ID'))"
   ]
  },
  {
   "cell_type": "markdown",
   "metadata": {},
   "source": [
    "### APD3\n",
    "\n",
    "De esta base de datos se pueden recuperar los identificadores propios, en APD_ID."
   ]
  },
  {
   "cell_type": "code",
   "execution_count": 5,
   "metadata": {},
   "outputs": [],
   "source": [
    "# Cargar el archivo FASTA y crear el diccionario de mapeo\n",
    "fasta_file = 'sub_files_bds/APD_sequence_release_09142020.fasta' \n",
    "id_map = {}\n",
    "for record in SeqIO.parse(fasta_file, 'fasta'):\n",
    "    description = record.description\n",
    "    peptide_id = description.split('|')[0].strip() \n",
    "    sequence = str(record.seq)\n",
    "    id_map[sequence] = peptide_id\n",
    "\n",
    "# Añadir la columna de ID mapeando las secuencias\n",
    "df['APD_ID'] = df['Sequence'].map(id_map)\n",
    "\n",
    "df.insert(3, 'APD3_ID', df.pop('APD_ID'))"
   ]
  },
  {
   "cell_type": "markdown",
   "metadata": {},
   "source": [
    "### DRAMP\n",
    "\n",
    "De esta base de datos se recuperaron identificadores UniProt, así como Targets de los diferentes péptidos."
   ]
  },
  {
   "cell_type": "code",
   "execution_count": 6,
   "metadata": {},
   "outputs": [],
   "source": [
    "# Cargar el archivo .xlsx \n",
    "ruta_del_archivo = 'sub_files_bds/dramp.xlsx'\n",
    "df_dramp = pd.read_excel(ruta_del_archivo, engine='openpyxl')\n",
    "\n",
    "# Realiza un merge entre df y df_dramp basándote en la columna 'Sequence'\n",
    "merged_df = pd.merge(df, df_dramp[['Sequence', 'Target_Organism']], on='Sequence', how='left')\n",
    "\n",
    "# Actualiza la columna 'Target' en df donde las condiciones son cumplidas\n",
    "df['Targets'] = merged_df.apply(\n",
    "    lambda row: row['Target_Organism'] if pd.notna(row['Target_Organism']) and row['Target_Organism'] != 'No MICs found on DRAMP database' else row['Targets'],\n",
    "    axis=1\n",
    ")"
   ]
  },
  {
   "cell_type": "markdown",
   "metadata": {},
   "source": [
    "A continuación se calcularán cuantas secuencias de aminoácidos tienen los diferentes identificadores."
   ]
  },
  {
   "cell_type": "code",
   "execution_count": 7,
   "metadata": {},
   "outputs": [],
   "source": [
    "# Columnas para evaluar\n",
    "columns = ['APD3_ID', 'UniProt_ID', 'PubMed_ID']\n",
    "\n",
    "# Diccionario para guardar los conteos\n",
    "data = {'NaN': {}, 'Non-NaN': {}}\n",
    "\n",
    "# Contar NaN y no-NaN en cada columna especificada\n",
    "for column in columns:\n",
    "    data['NaN'][column] = df[column].isna().sum()\n",
    "    data['Non-NaN'][column] = df[column].notna().sum()\n",
    "\n",
    "# Crear DataFrame a partir del diccionario\n",
    "summary_df = pd.DataFrame(data)"
   ]
  },
  {
   "cell_type": "code",
   "execution_count": 8,
   "metadata": {},
   "outputs": [
    {
     "data": {
      "image/png": "[encoded data removed]",
      "text/plain": [
       "<Figure size 1000x600 with 1 Axes>"
      ]
     },
     "metadata": {},
     "output_type": "display_data"
    }
   ],
   "source": [
    "import matplotlib.pyplot as plt\n",
    "\n",
    "summary_df = summary_df.fillna('NO')\n",
    "summary_df = summary_df.replace({x: 'SI' for x in summary_df.columns if x != 'NO'})\n",
    "\n",
    "# Gráfico de barras\n",
    "ax = summary_df.plot(kind='bar', color=['indianred', 'forestgreen'], figsize=(10, 6))\n",
    "\n",
    "# Añadir etiquetas y título\n",
    "plt.title('')\n",
    "plt.xlabel('Bases de datos')\n",
    "plt.ylabel('Número de secuencias')\n",
    "plt.xticks(rotation=0)  # Ajustar la rotación de las etiquetas del eje x\n",
    "plt.legend(title='Identificada', labels=['NO', 'SI'])\n",
    "\n",
    "# Guardar la figura\n",
    "plt.savefig(\"graph_plots/seq_id_bds.png\", bbox_inches='tight', dpi=300)\n",
    "plt.show()"
   ]
  },
  {
   "cell_type": "code",
   "execution_count": 9,
   "metadata": {},
   "outputs": [
    {
     "data": {
      "image/png": "[encoded data removed]",
      "text/plain": [
       "<Figure size 800x500 with 1 Axes>"
      ]
     },
     "metadata": {},
     "output_type": "display_data"
    }
   ],
   "source": [
    "# Calcular filas con todos los valores como NaN\n",
    "all_nan_count = df[columns].isna().all(axis=1).sum()\n",
    "\n",
    "# Calcular filas con al menos un identificador no-NaN\n",
    "some_not_nan_count = df[columns].notna().any(axis=1).sum()\n",
    "\n",
    "# Datos para el gráfico\n",
    "counts = [all_nan_count, some_not_nan_count]\n",
    "labels = ['Sin identificadores', 'Al menos un identificador']\n",
    "\n",
    "# Crear gráfico de barras\n",
    "plt.figure(figsize=(8, 5))\n",
    "plt.bar(labels, counts, color=['indianred', 'forestgreen'])\n",
    "plt.title('')\n",
    "plt.ylabel('Número de sequencias')\n",
    "for i, v in enumerate(counts):\n",
    "    plt.text(i, v + 50, str(v), ha='center', va='bottom')\n",
    "\n",
    "plt.tight_layout()\n",
    "\n",
    "# Guardar la figura antes de mostrarla\n",
    "plt.savefig(\"graph_plots/seq_id_no_id.png\", bbox_inches='tight', dpi=300)\n",
    "plt.show()"
   ]
  },
  {
   "cell_type": "markdown",
   "metadata": {},
   "source": [
    "## Depuración de la base de datos"
   ]
  },
  {
   "cell_type": "markdown",
   "metadata": {},
   "source": [
    "### Clusterización de las actividades\n",
    "\n",
    "Hay péptidos que tienen más de una actividad, y muchas de ellas son antagonistas a la hora de categorizarlas por AMP y no AMP, por lo que cada fila será una sola actividad para una secuencia."
   ]
  },
  {
   "cell_type": "code",
   "execution_count": 10,
   "metadata": {},
   "outputs": [
    {
     "name": "stdout",
     "output_type": "stream",
     "text": [
      "['Ace-inhibitory' 'Antioxidant' 'Anti-hypertensive' 'Immunomodulatory'\n",
      " 'Cytomodulatory' 'Anti-microbial' 'Antibacterial'\n",
      " 'Antibacterial against Enterococcus faecium' 'Bacillus megaterium'\n",
      " 'Escherichia coli' 'Listeria innocua' 'Salmonella spp.'\n",
      " 'Yersinia enterocolitica' '' 'Staphylococcus aureus'\n",
      " 'Cholestrol-lowering' 'Opioid' 'Anti-microbial against S.aureus'\n",
      " 'Antithrombotic' 'Anti-microbial against E. coli ATCC 8099'\n",
      " 'Anti-microbial against B. megaterium F6 as indicator'\n",
      " 'Anti-microbial against Enterobacter sakazakii ATCC 12868'\n",
      " 'Escherichia coli DPC5063'\n",
      " 'Anti-microbial against Cronobacter sakazakii DPC 6440' 'LOX inhibitor'\n",
      " 'Mitogene' 'Opioid agonist' 'Opioid antagonist'\n",
      " 'Casoxin C (Opioid antagonist)' 'CasoxinA (Opioid antagonist)'\n",
      " 'Antiangiogenesis' 'Antidiabetic' 'Antifungal' 'Antihypertensive'\n",
      " 'Antiinflammatory' 'AntiNematode' 'Antineurotensive' 'Antinociceptive'\n",
      " 'Antiparasitic' 'Antiprotozoal' 'Antitumour' 'Antiviral' 'CellCancer'\n",
      " 'CellPenetrating' 'Chemotactic' 'EnzymeInhibitor' 'Hypotensive'\n",
      " 'Ichthyotoxic' 'Insecticidal' 'MammalianCells' 'MastCellDegranulating'\n",
      " 'PlasmaAnticlotting' 'Spermicidal' 'Unknown' 'Uterotonic' 'WoundHealing'\n",
      " 'Antimicrobial' 'Anti-Gram-positive' 'Anti-Gram-' 'Anticancer']\n"
     ]
    }
   ],
   "source": [
    "# Dividir los valores de la columna 'Activity' por ';'\n",
    "df['Activity'] = df['Activity'].str.split(';')\n",
    "\n",
    "# Usar explode para expandir las listas en filas\n",
    "df_f = df.explode('Activity')\n",
    "\n",
    "# Ahora imprimir los valores únicos de la columna 'Activity' después de la separación\n",
    "print(df_f['Activity'].unique())"
   ]
  },
  {
   "cell_type": "code",
   "execution_count": 11,
   "metadata": {},
   "outputs": [],
   "source": [
    "# Cambiar el valor específico en la columna 'Activity' para detallar más el tarjet\n",
    "df_f['Activity'] = df_f['Activity'].replace('Casoxin C (Opioid antagonist)', 'Opioid')\n",
    "df_f['Activity'] = df_f['Activity'].replace('CasoxinA (Opioid antagonist)', 'Opioid')\n",
    "df_f['Activity'] = df_f['Activity'].replace('Escherichia coli DPC5063', 'Antibacterial against Escherichia coli DPC5063')\n",
    "df_f['Activity'] = df_f['Activity'].replace('Bacillus megaterium', 'Antibacterial against Bacillus megaterium')\n",
    "df_f['Activity'] = df_f['Activity'].replace('Escherichia coli', 'Antibacterial against Escherichia coli')\n",
    "df_f['Activity'] = df_f['Activity'].replace('Listeria innocua', 'Antibacterial against Listeria innocua')\n",
    "df_f['Activity'] = df_f['Activity'].replace('Salmonella spp.', 'Antibacterial against Salmonella spp.')\n",
    "df_f['Activity'] = df_f['Activity'].replace('Yersinia enterocolitica', 'Antibacterial against Yersinia enterocolitica')\n",
    "df_f['Activity'] = df_f['Activity'].replace('Staphylococcus aureus', 'Antibacterial against Staphylococcus aureus')\n",
    "df_f['Activity'] = df_f['Activity'].replace('Anti-hypertensive', 'Antihypertensive')\n",
    "df_f['Activity'] = df_f['Activity'].replace('Anti-microbial', 'Antimicrobial')\n",
    "df_f['Activity'] = df_f['Activity'].replace('Anti-microbial against S.aureus', 'Antibacterial against Staphylococcus aureus')\n",
    "df_f['Activity'] = df_f['Activity'].replace('Anti-microbial against E. coli ATCC 8099', 'Antibacterial against Escherichia coli ATCC 8099')\n",
    "df_f['Activity'] = df_f['Activity'].replace('Anti-microbial against B. megaterium F6 as indicator', 'Antibacterial against Bacillus megaterium F6 as indicator')\n",
    "df_f['Activity'] = df_f['Activity'].replace('Anti-microbial against Enterobacter sakazakii ATCC 12868', 'Antibacterial against Enterobacter sakazakii ATCC 12868')\n",
    "df_f['Activity'] = df_f['Activity'].replace('Anti-microbial against Cronobacter sakazakii DPC 6440', 'Antibacterial against Cronobacter sakazakii DPC 6440')\n",
    "df_f['Activity'] = df_f['Activity'].replace('Anti-Gram-positive', 'Antibacterial')\n",
    "df_f['Activity'] = df_f['Activity'].replace('Anti-Gram-', 'Antibacterial')"
   ]
  },
  {
   "cell_type": "code",
   "execution_count": 12,
   "metadata": {},
   "outputs": [],
   "source": [
    "# Filtrar las filas donde la columna 'Activity' no es una cadena vacía\n",
    "df_final = df_f.loc[df_f['Activity'] != '']"
   ]
  },
  {
   "cell_type": "code",
   "execution_count": 13,
   "metadata": {},
   "outputs": [
    {
     "data": {
      "text/plain": [
       "array(['Ace-inhibitory', 'Antioxidant', 'Antihypertensive',\n",
       "       'Immunomodulatory', 'Cytomodulatory', 'Antimicrobial',\n",
       "       'Antibacterial', 'Antibacterial against Enterococcus faecium',\n",
       "       'Antibacterial against Bacillus megaterium',\n",
       "       'Antibacterial against Escherichia coli',\n",
       "       'Antibacterial against Listeria innocua',\n",
       "       'Antibacterial against Salmonella spp.',\n",
       "       'Antibacterial against Yersinia enterocolitica',\n",
       "       'Antibacterial against Staphylococcus aureus',\n",
       "       'Cholestrol-lowering', 'Opioid', 'Antithrombotic',\n",
       "       'Antibacterial against Escherichia coli ATCC 8099',\n",
       "       'Antibacterial against Bacillus megaterium F6 as indicator',\n",
       "       'Antibacterial against Enterobacter sakazakii ATCC 12868',\n",
       "       'Antibacterial against Escherichia coli DPC5063',\n",
       "       'Antibacterial against Cronobacter sakazakii DPC 6440',\n",
       "       'LOX inhibitor', 'Mitogene', 'Opioid agonist', 'Opioid antagonist',\n",
       "       'Antiangiogenesis', 'Antidiabetic', 'Antifungal',\n",
       "       'Antiinflammatory', 'AntiNematode', 'Antineurotensive',\n",
       "       'Antinociceptive', 'Antiparasitic', 'Antiprotozoal', 'Antitumour',\n",
       "       'Antiviral', 'CellCancer', 'CellPenetrating', 'Chemotactic',\n",
       "       'EnzymeInhibitor', 'Hypotensive', 'Ichthyotoxic', 'Insecticidal',\n",
       "       'MammalianCells', 'MastCellDegranulating', 'PlasmaAnticlotting',\n",
       "       'Spermicidal', 'Unknown', 'Uterotonic', 'WoundHealing',\n",
       "       'Anticancer'], dtype=object)"
      ]
     },
     "execution_count": 13,
     "metadata": {},
     "output_type": "execute_result"
    }
   ],
   "source": [
    "# Obtener los valores únicos de la columna 'Activity' para las filas filtradas\n",
    "unique_activities = df_final['Activity'].unique()\n",
    "unique_activities"
   ]
  },
  {
   "cell_type": "code",
   "execution_count": 14,
   "metadata": {},
   "outputs": [
    {
     "name": "stderr",
     "output_type": "stream",
     "text": [
      "C:\\Users\\noral\\AppData\\Local\\Temp\\ipykernel_17976\\4094108986.py:2: SettingWithCopyWarning: \n",
      "A value is trying to be set on a copy of a slice from a DataFrame.\n",
      "Try using .loc[row_indexer,col_indexer] = value instead\n",
      "\n",
      "See the caveats in the documentation: https://pandas.pydata.org/pandas-docs/stable/user_guide/indexing.html#returning-a-view-versus-a-copy\n",
      "  df_final[['Activity', 'Target_temp']] = df_final['Activity'].str.split(' against ', expand=True)\n",
      "C:\\Users\\noral\\AppData\\Local\\Temp\\ipykernel_17976\\4094108986.py:2: SettingWithCopyWarning: \n",
      "A value is trying to be set on a copy of a slice from a DataFrame.\n",
      "Try using .loc[row_indexer,col_indexer] = value instead\n",
      "\n",
      "See the caveats in the documentation: https://pandas.pydata.org/pandas-docs/stable/user_guide/indexing.html#returning-a-view-versus-a-copy\n",
      "  df_final[['Activity', 'Target_temp']] = df_final['Activity'].str.split(' against ', expand=True)\n",
      "C:\\Users\\noral\\AppData\\Local\\Temp\\ipykernel_17976\\4094108986.py:5: SettingWithCopyWarning: \n",
      "A value is trying to be set on a copy of a slice from a DataFrame.\n",
      "Try using .loc[row_indexer,col_indexer] = value instead\n",
      "\n",
      "See the caveats in the documentation: https://pandas.pydata.org/pandas-docs/stable/user_guide/indexing.html#returning-a-view-versus-a-copy\n",
      "  df_final['Targets'] = df_final['Targets'].fillna(df_final['Target_temp'])\n",
      "C:\\Users\\noral\\AppData\\Local\\Temp\\ipykernel_17976\\4094108986.py:8: SettingWithCopyWarning: \n",
      "A value is trying to be set on a copy of a slice from a DataFrame\n",
      "\n",
      "See the caveats in the documentation: https://pandas.pydata.org/pandas-docs/stable/user_guide/indexing.html#returning-a-view-versus-a-copy\n",
      "  df_final.drop(columns=['Target_temp'], inplace=True)\n"
     ]
    }
   ],
   "source": [
    "\n",
    "# Dividimos la columna 'Activity' en dos nuevas columnas 'Activity' y 'Target_temp'\n",
    "df_final[['Activity', 'Target_temp']] = df_final['Activity'].str.split(' against ', expand=True)\n",
    "\n",
    "# Actualizar la columna 'Targets' con la nueva información de 'Target_temp' solo si 'Targets' está vacía o es NA\n",
    "df_final['Targets'] = df_final['Targets'].fillna(df_final['Target_temp'])\n",
    "\n",
    "# Eliminar la columna temporal 'Target_temp'\n",
    "df_final.drop(columns=['Target_temp'], inplace=True)"
   ]
  },
  {
   "cell_type": "code",
   "execution_count": 15,
   "metadata": {},
   "outputs": [
    {
     "data": {
      "text/plain": [
       "array(['Ace-inhibitory', 'Antioxidant', 'Antihypertensive',\n",
       "       'Immunomodulatory', 'Cytomodulatory', 'Antimicrobial',\n",
       "       'Antibacterial', 'Cholestrol-lowering', 'Opioid', 'Antithrombotic',\n",
       "       'LOX inhibitor', 'Mitogene', 'Opioid agonist', 'Opioid antagonist',\n",
       "       'Antiangiogenesis', 'Antidiabetic', 'Antifungal',\n",
       "       'Antiinflammatory', 'Antiparasitic', 'Antitumour', 'Antiviral',\n",
       "       'Chemotactic', 'EnzymeInhibitor', 'Insecticidal', 'MammalianCells',\n",
       "       'Spermicidal', 'Unknown', 'WoundHealing', 'Anticancer'],\n",
       "      dtype=object)"
      ]
     },
     "execution_count": 15,
     "metadata": {},
     "output_type": "execute_result"
    }
   ],
   "source": [
    "# Filtrar las filas donde 'Targets' es None o NaN\n",
    "filtered_df = df_final[df_final['Targets'].isna()]\n",
    "\n",
    "# Obtener las actividades\n",
    "unique_activities = filtered_df['Activity'].unique()\n",
    "unique_activities"
   ]
  },
  {
   "cell_type": "markdown",
   "metadata": {},
   "source": [
    "### Codificación de las actividades"
   ]
  },
  {
   "cell_type": "code",
   "execution_count": 16,
   "metadata": {},
   "outputs": [
    {
     "name": "stderr",
     "output_type": "stream",
     "text": [
      "C:\\Users\\noral\\AppData\\Local\\Temp\\ipykernel_17976\\1557824559.py:5: SettingWithCopyWarning: \n",
      "A value is trying to be set on a copy of a slice from a DataFrame.\n",
      "Try using .loc[row_indexer,col_indexer] = value instead\n",
      "\n",
      "See the caveats in the documentation: https://pandas.pydata.org/pandas-docs/stable/user_guide/indexing.html#returning-a-view-versus-a-copy\n",
      "  df_final['Code'] = codes\n"
     ]
    }
   ],
   "source": [
    "# Usar factorize() para asignar un número único a cada actividad única\n",
    "codes, unique_activities = pd.factorize(df_final['Activity'])\n",
    "\n",
    "# Agregar la columna 'code' al DataFrame\n",
    "df_final['Code'] = codes\n",
    "\n",
    "# DataFrame para ver los códigos y las actividades\n",
    "df_codes_activities = pd.DataFrame({'Activity': unique_activities, 'Code': range(len(unique_activities))})"
   ]
  },
  {
   "cell_type": "code",
   "execution_count": 17,
   "metadata": {},
   "outputs": [
    {
     "name": "stderr",
     "output_type": "stream",
     "text": [
      "C:\\Users\\noral\\AppData\\Local\\Temp\\ipykernel_17976\\2341964790.py:15: SettingWithCopyWarning: \n",
      "A value is trying to be set on a copy of a slice from a DataFrame.\n",
      "Try using .loc[row_indexer,col_indexer] = value instead\n",
      "\n",
      "See the caveats in the documentation: https://pandas.pydata.org/pandas-docs/stable/user_guide/indexing.html#returning-a-view-versus-a-copy\n",
      "  df_final['AMP'] = df_final['Activity'].apply(is_amp)\n"
     ]
    }
   ],
   "source": [
    "# Función para determinar si una actividad es AMP o Unknown\n",
    "def is_amp(activity):\n",
    "    # Revisar si la actividad es 'Unknown'\n",
    "    if activity == 'Unknown':\n",
    "        return pd.NA  # Retorna pd.NA para los valores 'Unknown'\n",
    "    # Lista de palabras clave que definen las actividades de tipo AMP\n",
    "    amp_keywords = ['Antimicrobial', 'Antibacterial', 'Antiviral', 'Antifungal', 'Antiparasitic', 'Antiprotozoal']\n",
    "    # Verificar si la actividad contiene alguna de las palabras clave\n",
    "    for keyword in amp_keywords:\n",
    "        if activity.startswith(keyword):\n",
    "            return True\n",
    "    return False\n",
    "\n",
    "# Aplicar la función a la columna 'Activity' y crear una nueva columna 'AMP'\n",
    "df_final['AMP'] = df_final['Activity'].apply(is_amp)"
   ]
  },
  {
   "cell_type": "markdown",
   "metadata": {},
   "source": [
    "Este dataframe contine todas las actividades que puede terner cada secuencia, siendo cada actividad para una secuencia una fila en el dataframe. "
   ]
  },
  {
   "cell_type": "markdown",
   "metadata": {},
   "source": [
    "### Limpieza de secuencias con formato no válido"
   ]
  },
  {
   "cell_type": "code",
   "execution_count": 18,
   "metadata": {},
   "outputs": [
    {
     "name": "stderr",
     "output_type": "stream",
     "text": [
      "C:\\Users\\noral\\AppData\\Local\\Temp\\ipykernel_17976\\3224513054.py:2: SettingWithCopyWarning: \n",
      "A value is trying to be set on a copy of a slice from a DataFrame.\n",
      "Try using .loc[row_indexer,col_indexer] = value instead\n",
      "\n",
      "See the caveats in the documentation: https://pandas.pydata.org/pandas-docs/stable/user_guide/indexing.html#returning-a-view-versus-a-copy\n",
      "  df_final['Sequence'] = df_final['Sequence'].str.strip()\n"
     ]
    },
    {
     "name": "stdout",
     "output_type": "stream",
     "text": [
      "Número de secuencias con caracteres no válidos: 0\n"
     ]
    }
   ],
   "source": [
    "# Eliminar espacios al inicio y al final de las secuencias\n",
    "df_final['Sequence'] = df_final['Sequence'].str.strip()\n",
    "\n",
    "# Filtrar secuencias vacías o de longitud cero\n",
    "df_final = df_final[df_final['Sequence'] != '']\n",
    "df_final = df_final[df_final['Sequence'].str.len() > 0]\n",
    "\n",
    "# Verificar que sólo haya caracteres válidos en las secuencias\n",
    "valid_amino_acids = 'ACDEFGHIKLMNPQRSTVWY'\n",
    "df_final['Sequence'] = df_final['Sequence'].apply(lambda x: ''.join([char for char in x if char in valid_amino_acids]))\n",
    "\n",
    "# Filtrar nuevamente después de la limpieza\n",
    "df_final = df_final[df_final['Sequence'] != '']\n",
    "df_final = df_final[df_final['Sequence'].str.len() > 0]\n",
    "\n",
    "# Comprobar si aún quedan secuencias inválidas\n",
    "num_invalid_sequences = df_final['Sequence'].str.contains('[^ACDEFGHIKLMNPQRSTVWY]').sum()\n",
    "print(\"Número de secuencias con caracteres no válidos:\", num_invalid_sequences)"
   ]
  },
  {
   "cell_type": "code",
   "execution_count": 19,
   "metadata": {},
   "outputs": [
    {
     "name": "stdout",
     "output_type": "stream",
     "text": [
      "<class 'pandas.core.frame.DataFrame'>\n",
      "Index: 46845 entries, 0 to 46500\n",
      "Data columns (total 10 columns):\n",
      " #   Column      Non-Null Count  Dtype \n",
      "---  ------      --------------  ----- \n",
      " 0   ID_Peptide  46845 non-null  object\n",
      " 1   PubMed_ID   1122 non-null   object\n",
      " 2   UniProt_ID  7453 non-null   object\n",
      " 3   APD3_ID     13099 non-null  object\n",
      " 4   Sequence    46845 non-null  object\n",
      " 5   Activity    46845 non-null  object\n",
      " 6   db_source   46845 non-null  object\n",
      " 7   Targets     31658 non-null  object\n",
      " 8   Code        46845 non-null  int64 \n",
      " 9   AMP         40541 non-null  object\n",
      "dtypes: int64(1), object(9)\n",
      "memory usage: 3.9+ MB\n"
     ]
    }
   ],
   "source": [
    "df_final.info()"
   ]
  },
  {
   "cell_type": "markdown",
   "metadata": {},
   "source": [
    "De esta forma, nuestra base de datos final tiene **46845 filas** y **9 columnas** (ID_Peptide, PumMed_ID, UniProt_ID, APD3_ID, Sequence, Activity, Target, Code y AMP)."
   ]
  },
  {
   "cell_type": "code",
   "execution_count": 20,
   "metadata": {},
   "outputs": [],
   "source": [
    "# Guardar el DataFrame en un archivo CSV.\n",
    "df_final.to_csv('files_results/db_all_stat.csv', index=False)"
   ]
  },
  {
   "cell_type": "code",
   "execution_count": 21,
   "metadata": {},
   "outputs": [
    {
     "data": {
      "image/png": "[encoded data removed]",
      "text/plain": [
       "<Figure size 1000x600 with 1 Axes>"
      ]
     },
     "metadata": {},
     "output_type": "display_data"
    }
   ],
   "source": [
    "# Contar los valores en la columna 'AMP'\n",
    "conteo_amp = df_final['AMP'].value_counts(dropna=False)\n",
    "\n",
    "# Mapeo de colores personalizado según el valor\n",
    "color_map = {True: 'forestgreen', False: 'indianred', 'NaN': 'gray'}\n",
    "\n",
    "# Crear lista de colores basada en los valores existentes\n",
    "colors = [color_map.get(x, 'gray') for x in conteo_amp.index]\n",
    "\n",
    "# Crear un gráfico de barras\n",
    "plt.figure(figsize=(10, 6))\n",
    "bars = conteo_amp.plot(kind='bar', color=colors)\n",
    "plt.title('')\n",
    "plt.xlabel('Valores de AMP')\n",
    "plt.ylabel('Frecuencia')\n",
    "plt.xticks(rotation=0) \n",
    "plt.grid(True)\n",
    "\n",
    "# Añadir valores dentro de las barras\n",
    "for p in bars.patches:\n",
    "    height = int(p.get_height())\n",
    "    bars.annotate(f'{height}', (p.get_x() + p.get_width() / 2., height),\n",
    "                  ha='center', va='center', xytext=(0, 10), textcoords='offset points')\n",
    "    \n",
    "# Guardar la figura antes de mostrarla\n",
    "plt.savefig(\"graph_plots/num_seq_no_filt.png\", bbox_inches='tight', dpi=300)\n",
    "\n",
    "plt.show()"
   ]
  },
  {
   "cell_type": "markdown",
   "metadata": {},
   "source": [
    "# Filtrado de péptidos antimicrobianos para Machine learning\n",
    "\n",
    "Un péptido puede tener más de una actividad, y que estas pueden ser antimicrobianas o no. Si un péptido tiene una actividad antimicrobiana, ya es considerado péptido antimicrobiano, y por ello, el siguiente paso es eliminar las actividades no antimicrobianas o desconocidas para un péptido cuando ya se ha identificado como antimicrobiano."
   ]
  },
  {
   "cell_type": "code",
   "execution_count": 22,
   "metadata": {},
   "outputs": [],
   "source": [
    "# Limpieza de secuencias repetidas con diferentes valores de AMP\n",
    "df_ML = df_final.copy()\n",
    "\n",
    "# Priorizamos 'True' sobre 'False' y 'NaN' mediante el uso de una clave de ordenamiento \n",
    "orden_prioridad = {True: 0, False: 1, pd.NA: 2}\n",
    "df_ML['orden'] = df_ML['AMP'].map(orden_prioridad)\n",
    "df_ML.sort_values(by=['Sequence', 'orden'], inplace=True)\n",
    "\n",
    "# Mantenemos la primera entrada de cada sequencia\n",
    "df_ML.drop_duplicates(subset='Sequence', keep='first', inplace=True)\n",
    "\n",
    "# Eliminar la columna auxiliar 'orden'\n",
    "df_ML.drop(columns='orden', inplace=True)"
   ]
  },
  {
   "cell_type": "markdown",
   "metadata": {},
   "source": [
    "Nos quedamos solo con los que tienen una longitud entre 7 y 150 aa's. Se ha seleccionado este rango debido a que\n",
    "la base de datos UniProt no tiene secuencias menores a 7 aminoácidos."
   ]
  },
  {
   "cell_type": "code",
   "execution_count": 23,
   "metadata": {},
   "outputs": [
    {
     "name": "stdout",
     "output_type": "stream",
     "text": [
      "<class 'pandas.core.frame.DataFrame'>\n",
      "Index: 19245 entries, 4683 to 16713\n",
      "Data columns (total 10 columns):\n",
      " #   Column      Non-Null Count  Dtype \n",
      "---  ------      --------------  ----- \n",
      " 0   ID_Peptide  19245 non-null  object\n",
      " 1   PubMed_ID   234 non-null    object\n",
      " 2   UniProt_ID  4792 non-null   object\n",
      " 3   APD3_ID     2941 non-null   object\n",
      " 4   Sequence    19245 non-null  object\n",
      " 5   Activity    19245 non-null  object\n",
      " 6   db_source   19245 non-null  object\n",
      " 7   Targets     14378 non-null  object\n",
      " 8   Code        19245 non-null  int64 \n",
      " 9   AMP         13997 non-null  object\n",
      "dtypes: int64(1), object(9)\n",
      "memory usage: 1.6+ MB\n"
     ]
    }
   ],
   "source": [
    "# Filtrar los aminoácidos para quedarme solo con los que están entre 7 y 150. \n",
    "\n",
    "df_ML = df_ML[df_ML['Sequence'].apply(len).between(7, 150)]\n",
    "df_ML = df_ML[~df_ML['Sequence'].str.contains(' |[a-z]', regex=True)]\n",
    "\n",
    "df_ML.info()"
   ]
  },
  {
   "cell_type": "markdown",
   "metadata": {},
   "source": [
    "De esta forma, nuestra base de datos final para Machine Learning tiene **21016 filas** y **9 columnas** (ID_Peptide, PumMed_ID, UniProt_ID, APD3_ID, Sequence , Activity, Target, Code y AMP). Este archivo ya se ha filtrado para machine Learnig. Cuando un peptido tenia funcion AMP y no AMP, se ha eliminado la fila en la que aparecía con función no AMP.\n",
    "\n",
    "Además, nos aseguraremos de que todas las secuencias cumplen las mínimas reglas para poder ser procesadas por Propythia."
   ]
  },
  {
   "cell_type": "code",
   "execution_count": 25,
   "metadata": {},
   "outputs": [
    {
     "data": {
      "image/png": "[encoded data removed]",
      "text/plain": [
       "<Figure size 1000x600 with 1 Axes>"
      ]
     },
     "metadata": {},
     "output_type": "display_data"
    }
   ],
   "source": [
    "# Contar los valores en la columna 'AMP'\n",
    "conteo_amp = df_ML['AMP'].value_counts(dropna=False)\n",
    "\n",
    "# Mapeo de colores personalizado según el valor\n",
    "color_map = {True: 'forestgreen', False: 'indianred', 'NaN': 'gray'}\n",
    "\n",
    "# Crear lista de colores basada en los valores existentes\n",
    "colors = [color_map.get(x, 'gray') for x in conteo_amp.index]\n",
    "\n",
    "# Crear un gráfico de barras\n",
    "plt.figure(figsize=(10, 6))\n",
    "bars = conteo_amp.plot(kind='bar', color=colors)\n",
    "plt.title('')\n",
    "plt.xlabel('Valores de AMP')\n",
    "plt.ylabel('Frecuencia')\n",
    "plt.xticks(rotation=0)  # Rotar etiquetas si son largas o numerosas\n",
    "plt.grid(True)\n",
    "\n",
    "# Añadir valores dentro de las barras\n",
    "for p in bars.patches:\n",
    "    height = int(p.get_height())\n",
    "    bars.annotate(f'{height}', (p.get_x() + p.get_width() / 2., height),\n",
    "                  ha='center', va='center', xytext=(0, 10), textcoords='offset points')\n",
    "    \n",
    "\n",
    "# Guardar la figura antes de mostrarla\n",
    "plt.savefig(\"graph_plots/num_seq_filt_ML.png\", bbox_inches='tight', dpi=300)\n",
    "\n",
    "plt.show()"
   ]
  },
  {
   "cell_type": "code",
   "execution_count": 26,
   "metadata": {},
   "outputs": [],
   "source": [
    "# Guardar el DataFrame en un archivo CSV\n",
    "\n",
    "df_ML.to_csv('files_results/db_AMP_ML.csv', index=False)"
   ]
  }
 ],
 "metadata": {
  "kernelspec": {
   "display_name": "Python 3",
   "language": "python",
   "name": "python3"
  },
  "language_info": {
   "codemirror_mode": {
    "name": "ipython",
    "version": 3
   },
   "file_extension": ".py",
   "mimetype": "text/x-python",
   "name": "python",
   "nbconvert_exporter": "python",
   "pygments_lexer": "ipython3",
   "version": "3.12.3"
  }
 },
 "nbformat": 4,
 "nbformat_minor": 2
}
